{
 "cells": [
  {
   "cell_type": "code",
   "execution_count": 1,
   "id": "3b91dc1c",
   "metadata": {},
   "outputs": [
    {
     "name": "stdout",
     "output_type": "stream",
     "text": [
      "Enter the mean inter arrival time of objects from Feeder (in secs): 10\n",
      "Enter the mean  inter service time of Lathe Machine (in secs) :  1\n",
      "Enter the Additional time taken for the Robot (in secs) :  7\n",
      "Number of service centre :  2\n",
      "--------------------------------------------------------------\n",
      "Multiple Server with Infinite Capacity - (M/M/c):(oo/FIFO)\n",
      "--------------------------------------------------------------\n",
      "The mean arrival rate per second : 0.10 \n",
      "The mean service rate per second : 0.12 \n",
      "Average number of objects in the system : 0.95 \n",
      "Average number of objects in the conveyor :  0.15 \n",
      "Average waiting time of an object in the system : 9.52 secs\n",
      "Average waiting time of an object in the conveyor : 1.52 secs\n",
      "Probability that the system is busy : 0.40 \n",
      "Probability that the system is empty : 0.60 \n",
      "--------------------------------------------------------------\n"
     ]
    }
   ],
   "source": [
    "import math\n",
    "arr_time=float(input(\"Enter the mean inter arrival time of objects from Feeder (in secs): \"))\n",
    "ser_time=float(input(\"Enter the mean  inter service time of Lathe Machine (in secs) :  \"))\n",
    "Robot_time=float(input(\"Enter the Additional time taken for the Robot (in secs) :  \"))\n",
    "c=int(input(\"Number of service centre :  \"))\n",
    "lam=1/arr_time\n",
    "mu=1/(ser_time+Robot_time)\n",
    "print(\"--------------------------------------------------------------\")\n",
    "print(\"Multiple Server with Infinite Capacity - (M/M/c):(oo/FIFO)\")\n",
    "print(\"--------------------------------------------------------------\")\n",
    "print(\"The mean arrival rate per second : %0.2f \"%lam)\n",
    "print(\"The mean service rate per second : %0.2f \"%mu)\n",
    "rho=lam/(c*mu)\n",
    "sum=(lam/mu)**c*(1/(1-rho))/math.factorial(c)\n",
    "for i in range(0,c):\n",
    "    sum=sum+(lam/mu)**i/math.factorial(i)\n",
    "P0=1/sum\n",
    "if (rho<1):\n",
    "    Lq=(P0/math.factorial(c))*(1/c)*(lam/mu)**(c+1)/(1-rho)**2\n",
    "    Ls=Lq+lam/mu\n",
    "    Ws=Ls/lam\n",
    "    Wq=Lq/lam\n",
    "    print(\"Average number of objects in the system : %0.2f \"%Ls)\n",
    "    print(\"Average number of objects in the conveyor :  %0.2f \"%Lq)\n",
    "    print(\"Average waiting time of an object in the system : %0.2f secs\"%Ws)\n",
    "    print(\"Average waiting time of an object in the conveyor : %0.2f secs\"%Wq)\n",
    "    print(\"Probability that the system is busy : %0.2f \"%(rho))\n",
    "    print(\"Probability that the system is empty : %0.2f \"%(1-rho))\n",
    "else:\n",
    "    print(\"Warning! Objects Over flow will happen in the conveyor\")\n",
    "print(\"--------------------------------------------------------------\")\n"
   ]
  },
  {
   "cell_type": "code",
   "execution_count": null,
   "id": "e1417166",
   "metadata": {},
   "outputs": [],
   "source": []
  }
 ],
 "metadata": {
  "kernelspec": {
   "display_name": "Python 3 (ipykernel)",
   "language": "python",
   "name": "python3"
  },
  "language_info": {
   "codemirror_mode": {
    "name": "ipython",
    "version": 3
   },
   "file_extension": ".py",
   "mimetype": "text/x-python",
   "name": "python",
   "nbconvert_exporter": "python",
   "pygments_lexer": "ipython3",
   "version": "3.8.12"
  }
 },
 "nbformat": 4,
 "nbformat_minor": 5
}
